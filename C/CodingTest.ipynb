{
 "cells": [
  {
   "cell_type": "code",
   "execution_count": 1,
   "metadata": {},
   "outputs": [
    {
     "name": "stdout",
     "output_type": "stream",
     "text": [
      "bbaa\n",
      "aa\n",
      "\n",
      "1\n"
     ]
    }
   ],
   "source": [
    "#https://wayhome25.github.io/algorithm/2017/05/15/challenge_algorithm_2/\n",
    "def solution(s):\n",
    "\t#escape \n",
    "\tif len(s)==0:\n",
    "\t\treturn 1\n",
    "\n",
    "\tfor i in xrange(len(s)-1):\n",
    "\t\tif s[i] == s[i+1]:\n",
    "\t\t\tprint s[:i]+s[i+2:]\n",
    "\t\t\treturn solution(s[:i]+s[i+2:])\n",
    "\n",
    "print(solution('baabaa'))\n",
    "\n",
    "\n"
   ]
  },
  {
   "cell_type": "code",
   "execution_count": 15,
   "metadata": {},
   "outputs": [
    {
     "name": "stdout",
     "output_type": "stream",
     "text": [
      "3\n"
     ]
    }
   ],
   "source": [
    "#https://wayhome25.github.io/algorithm/2017/05/15/challenge_algorithm_1/\n",
    "def sol(N,A,B):\n",
    "    for i in range(1,int(math.log(N,2))+1):\n",
    "        if (1+A)//2 == (1+B)//2:\n",
    "            return i\n",
    "        else:\n",
    "            A=(1+A)//2\n",
    "            B=(1+B)//2\n",
    "            \n",
    "print(sol(8,1,5))"
   ]
  },
  {
   "cell_type": "code",
   "execution_count": 80,
   "metadata": {},
   "outputs": [],
   "source": [
    "#https://wayhome25.github.io/algorithm/2017/04/24/binarygap/\n",
    "def binarygap(X):\n",
    "    max_gap=0\n",
    "    temp=0\n",
    "    #if it is not the last\n",
    "    while(X//2 != 1):\n",
    "        #print((X,X%2))\n",
    "        #if it has remainer 1 and temp is greater than max_gap\n",
    "        if X%2 ==1 and temp>=max_gap:\n",
    "            max_gap=temp\n",
    "            temp=0\n",
    "        #if it has remainer 1 \n",
    "        if X%2 ==0:\n",
    "            temp+=1\n",
    "        X=X//2\n",
    "        #print((max_gap,temp))\n",
    "        #print(\"--------------------\")\n",
    "    if X%2==1 and temp>=max_gap:\n",
    "        max_gap=temp \n",
    "    if X%2==0 and temp>=max_gap:\n",
    "        max_gap=temp+1\n",
    "    return max_gap \n",
    "        "
   ]
  },
  {
   "cell_type": "code",
   "execution_count": 82,
   "metadata": {},
   "outputs": [
    {
     "data": {
      "text/plain": [
       "0"
      ]
     },
     "execution_count": 82,
     "metadata": {},
     "output_type": "execute_result"
    }
   ],
   "source": [
    "binarygap(15)"
   ]
  },
  {
   "cell_type": "code",
   "execution_count": 3,
   "metadata": {
    "collapsed": true
   },
   "outputs": [],
   "source": [
    "#https://wayhome25.github.io/algorithm/2017/05/05/TapeEquilibrium/\n",
    "def Tape(A):\n",
    "    \n",
    "    X=A[0]-sum(A[1:])\n",
    "    min_val=abs(X)\n",
    "    for i in range(1,len(A)-1):\n",
    "        X=X+2*A[i]\n",
    "        temp_min_val=abs(X)\n",
    "        if temp_min_val<min_val:\n",
    "            min_val=temp_min_val\n",
    "    return min_val \n",
    "    "
   ]
  },
  {
   "cell_type": "code",
   "execution_count": 4,
   "metadata": {},
   "outputs": [
    {
     "data": {
      "text/plain": [
       "1"
      ]
     },
     "execution_count": 4,
     "metadata": {},
     "output_type": "execute_result"
    }
   ],
   "source": [
    "Tape([3,1,2,4,3])"
   ]
  },
  {
   "cell_type": "code",
   "execution_count": 1,
   "metadata": {},
   "outputs": [],
   "source": [
    "#https://wayhome25.github.io/algorithm/2017/05/07/permcheck/\n",
    "#quick sort and check the last element is equal to its index "
   ]
  },
  {
   "cell_type": "code",
   "execution_count": 14,
   "metadata": {},
   "outputs": [],
   "source": [
    "import math \n",
    "#https://wayhome25.github.io/algorithm/2017/06/12/CountFactors/\n",
    "def CountFactors(Num):\n",
    "    factors=[1,Num]\n",
    "    #square root \n",
    "    Sqrt_Num=math.sqrt(Num)\n",
    "    \n",
    "    if Sqrt_Num==int(Sqrt_Num):\n",
    "        factors.append(Sqrt_Num)\n",
    "    \n",
    "    for i in range(2,int(math.sqrt(Num))+1):\n",
    "        if Num%i==0:\n",
    "            factors.append(i)\n",
    "            factors.append(Num//i)\n",
    "    return factors"
   ]
  },
  {
   "cell_type": "code",
   "execution_count": 18,
   "metadata": {},
   "outputs": [
    {
     "data": {
      "text/plain": [
       "[1, 2147483647]"
      ]
     },
     "execution_count": 18,
     "metadata": {},
     "output_type": "execute_result"
    }
   ],
   "source": [
    "CountFactors(2147483647)"
   ]
  },
  {
   "cell_type": "code",
   "execution_count": 19,
   "metadata": {},
   "outputs": [],
   "source": [
    "#https://wayhome25.github.io/algorithm/2017/06/12/PassingCars/\n",
    "#0기준으로 영 뒤에 있는 1 모두 새서(X) Sum 에 더하고 다음 0 나올때까지 지나간 1 들을 뺀 ( X-n) 를 Sum 에 더하는 것을 반복한다. "
   ]
  },
  {
   "cell_type": "code",
   "execution_count": 29,
   "metadata": {
    "collapsed": true
   },
   "outputs": [],
   "source": [
    "#https://wayhome25.github.io/algorithm/2017/10/06/two-sum/\n",
    "#while using hash you benefit from the time complexity of O(n)\n",
    "def twosum(A,target):\n",
    "    dic={}\n",
    "    for i in range(len(A)):\n",
    "        # only it is less than the target \n",
    "        if A[i]<target:\n",
    "            print()\n",
    "            dic[A[i]]=i\n",
    "            if target-A[i] in dic:\n",
    "                return (dic[A[i]],dic[target-A[i]])\n",
    "        \n",
    "            \n",
    "    "
   ]
  },
  {
   "cell_type": "code",
   "execution_count": 33,
   "metadata": {},
   "outputs": [
    {
     "data": {
      "text/plain": [
       "(4, 2)"
      ]
     },
     "execution_count": 33,
     "metadata": {},
     "output_type": "execute_result"
    }
   ],
   "source": [
    "twosum([ 11, 15,2,9,7],9)"
   ]
  },
  {
   "cell_type": "code",
   "execution_count": 25,
   "metadata": {},
   "outputs": [
    {
     "data": {
      "text/plain": [
       "{'d': 8}"
      ]
     },
     "execution_count": 25,
     "metadata": {},
     "output_type": "execute_result"
    }
   ],
   "source": [
    "#https://wayhome25.github.io/algorithm/2017/10/21/judge-route-circle/\n",
    "#use stacks for R and U repectively and check L and D while poping stacks"
   ]
  },
  {
   "cell_type": "code",
   "execution_count": 34,
   "metadata": {},
   "outputs": [
    {
     "ename": "SyntaxError",
     "evalue": "invalid syntax (<ipython-input-34-0d20c6b9bc37>, line 5)",
     "output_type": "error",
     "traceback": [
      "\u001b[0;36m  File \u001b[0;32m\"<ipython-input-34-0d20c6b9bc37>\"\u001b[0;36m, line \u001b[0;32m5\u001b[0m\n\u001b[0;31m    name, *line = input().split()\u001b[0m\n\u001b[0m          ^\u001b[0m\n\u001b[0;31mSyntaxError\u001b[0m\u001b[0;31m:\u001b[0m invalid syntax\n"
     ]
    }
   ],
   "source": [
    "#https://wayhome25.github.io/algorithm/2017/11/04/Finding-the-percentage/\n",
    "n = int(input())\n",
    "student_marks = {}\n",
    "for _ in range(n):\n",
    "    name, *line = input().split()\n",
    "    scores = list(map(float, line))\n",
    "    student_marks[name] = scores\n",
    "query_name = input()\n",
    "score_list = student_marks[query_name]\n",
    "print(\"{0:.2f}\".format(sum(score_list) / len(score_list)))\n",
    "\n"
   ]
  },
  {
   "cell_type": "code",
   "execution_count": 35,
   "metadata": {},
   "outputs": [
    {
     "ename": "SyntaxError",
     "evalue": "invalid syntax (<ipython-input-35-cb3c76140442>, line 1)",
     "output_type": "error",
     "traceback": [
      "\u001b[0;36m  File \u001b[0;32m\"<ipython-input-35-cb3c76140442>\"\u001b[0;36m, line \u001b[0;32m1\u001b[0m\n\u001b[0;31m    one, *others = [1, 2, 3, 4, 5]\u001b[0m\n\u001b[0m         ^\u001b[0m\n\u001b[0;31mSyntaxError\u001b[0m\u001b[0;31m:\u001b[0m invalid syntax\n"
     ]
    }
   ],
   "source": [
    "one, *others = [1, 2, 3, 4, 5]\n",
    "\"\"\"\n",
    ">>> others\n",
    "[2, 3, 4, 5]\n",
    "\"\"\""
   ]
  },
  {
   "cell_type": "code",
   "execution_count": null,
   "metadata": {
    "collapsed": true
   },
   "outputs": [],
   "source": []
  }
 ],
 "metadata": {
  "kernelspec": {
   "display_name": "Python 2",
   "language": "python",
   "name": "python2"
  },
  "language_info": {
   "codemirror_mode": {
    "name": "ipython",
    "version": 2
   },
   "file_extension": ".py",
   "mimetype": "text/x-python",
   "name": "python",
   "nbconvert_exporter": "python",
   "pygments_lexer": "ipython2",
   "version": "2.7.11"
  }
 },
 "nbformat": 4,
 "nbformat_minor": 1
}
